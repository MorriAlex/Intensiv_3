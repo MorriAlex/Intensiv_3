{
 "cells": [
  {
   "cell_type": "code",
   "execution_count": 41,
   "metadata": {},
   "outputs": [],
   "source": [
    "import pandas as pd\n",
    "from sklearn.metrics import accuracy_score, roc_auc_score\n",
    "import numpy as np\n"
   ]
  },
  {
   "cell_type": "code",
   "execution_count": 42,
   "metadata": {},
   "outputs": [],
   "source": [
    "ca = pd.read_csv(r'C:\\Users\\User\\Documents\\GitHub\\Intensiv_3\\Dataset\\data\\test.xlsx', encoding = 'latin2',  on_bad_lines='skip')"
   ]
  },
  {
   "cell_type": "code",
   "execution_count": 43,
   "metadata": {},
   "outputs": [
    {
     "data": {
      "text/plain": [
       "<bound method NDFrame.head of                                                 PK\u0003\u0004\u0014  \\\n",
       "0   ?9LěŇ\u0015ČsbgŮŽ|Čl!őů\u001aUSh9i°br:\"y_dlŔóDż\u0013ý|-N...   \n",
       "1                                       >\u001f~ţtśQú~ĄÔ=\u0002   \n",
       "2                      ĆÇŐ%ś\u0005Ńź \u0016č\\TŚC+Ů[ŕJŞďëĘcŞŹ   \n",
       "3                                 a\u001f\u001aPJLWRiş( í-9E[   \n",
       "4                                                \bž$   \n",
       "5   Šďkž\u0016Ž{V:z'Ťh\u0015=ŕĂh\u0004¤Őh%â˝\u0013ítĎ-ÄĂłĽ(řM+]DŤ...   \n",
       "6                                                      \n",
       "7                                                jěe&   \n",
       "8   ]W\u0017ľ( \u001aö{˝\u0010űĂ˝g\u001a\u0016ĐűŻ\n",
       "ĺZRËGJZÚúGeŐ`r\u0005\"FżůßZ...   \n",
       "9   ý¤Ű.B¤\u0016Ů3Ç`÷xÎż2]ěÉ%ěćÚŕ\u001bóŹ\n",
       "ˇDŰ[!3ľ\u0001Ů\u0011ĚĹĂ...   \n",
       "10                                                  y   \n",
       "11                                 ëŢd\u0003.ČĆáă×ßËtăgJZ   \n",
       "12  g˝­CdśËůźü!\u001b2.\u000e¤óú/Âd\u0003ć`%ă\u0005\n",
       "Qů˙RĘn\u000eŹü\bë˙\u0013v{Ĺ...   \n",
       "13                                       8D\\tR'Řn\u0016Ô   \n",
       "14                                               6eÄ   \n",
       "15                              šHąG\u0011ŻD\u0002\u001f\u0001Ý­ŹV*\u0014Ó   \n",
       "16                          *ć\u0013Źl^]Á\u001bĹ&Śě-íëOąŻŘ\u0010V   \n",
       "17  ŘH\u0003)ÖÖ!\u0018ţ6)ŔŽkÉpHBUvviĹÜQ\u0018@QJůX\u0011qDGhŔĆb\u001fűu...   \n",
       "18                                          tžś\u0002.TÂĄ   \n",
       "19                                                ĺ\\t   \n",
       "20                                       {\u0002.šLíhëXx   \n",
       "21  A\u0005÷Éćż úżÍ9KĂ¤5L}jĆHP8T\"\bŮ˛d˘ď\u0014bŐâě˛$YAČDT...   \n",
       "22  }ś\u0007(P7Ő¤(\u0003\u0006w2ţÜç\"\u0006ąnrţŠMćóś\u0007ş;°-ÝĆ^¤V*úĽ...   \n",
       "23  ¤É\u0010.÷ĺĄNŽ­\u0012ŠĚ¤}U$\u0018ćka\\t˘ôËŽ6ÝĆŐjÖa`Ă'...   \n",
       "24                                     |/;ő\u0003o2Ľ3o6=ź   \n",
       "25     ÂŐt˛ź˛hÄ=zâ@÷I\u0010t\u0006G>ZX.ŕjĐjPhl\u0005`ű$Č \u00049~śÓ_   \n",
       "26                                                =Ar   \n",
       "27                                                 l.   \n",
       "28  °DÍ\\b\"ĆˇŚ˝ŰPśĘř÷\u0016ŘEăcď9÷ťçŢ4]ęĘű\u0002mĘFf\u0004!...   \n",
       "29                                             Ă%ŽÁ2Á   \n",
       "30  jÖ`\u0012\u0010üăľ kógĂ Ěui;ĺv:Çł\u0005\u001fĹÉ}2ĺdlŰ6hă!ËOđŰö...   \n",
       "31                                             ŁŘ\u000f~D   \n",
       "32                            T\u0013ÚX\u0010Ľ¨qTF\u001fh(ś}ÜŤ\b   \n",
       "33  NĆj\u0015rHXŹkÚÚV\u0011üxűx_?Ż_ÖŻ \u001bśe_ŰŻÍĄ\n",
       "ś\u0002*ś\n",
       "A\u0007...   \n",
       "34                                                NaN   \n",
       "35                                                NaN   \n",
       "36                                                NaN   \n",
       "\n",
       "   ŕĽÇDO97*~§ČÉ¸8ŔOíc\n",
       "|nŚŃ\u0007ä\u0004Eř˙\u0014ö\u0011éşóŔB\u0010ÉŔ!$}íŕČé;{ěĐĺ[îńé2ţ\u0006  \n",
       "0                                                 NaN                 \n",
       "1                                                 NaN                 \n",
       "2                                                 NaN                 \n",
       "3                                                 NaN                 \n",
       "4                                                 NaN                 \n",
       "5                                                 NaN                 \n",
       "6                                                 NaN                 \n",
       "7                                            ĎR<ĽÚđ                 \n",
       "8   Ą\n",
       "3Ł6Gľ.R<Jć×\u00062lěź˝\u0013ö{˝O\n",
       "5#Öw˝ůZj¸gŕç/¤I...                 \n",
       "9   \u00148ćř(%\u0019ŁŚ\"DôšŇ4jÎ0u2jsĐ\n",
       "ĘMYŢË´äúSě­´ˇˇ ...                 \n",
       "10                                          ËôďfäÉÇŐß                 \n",
       "11                                                NaN                 \n",
       "12                                                NaN                 \n",
       "13                                                NaN                 \n",
       "14                                                NaN                 \n",
       "15  @\u0019Něíá\u0004ő5É`sJźËŕ1SR/L\n",
       "hŇÄŮa°Ń¨Ş\u0011r\";L CĚZ\u0001đ...                 \n",
       "16                                                NaN                 \n",
       "17                                                NaN                 \n",
       "18                                                NaN                 \n",
       "19                                                NaN                 \n",
       "20                                                NaN                 \n",
       "21                                                NaN                 \n",
       "22                                                NaN                 \n",
       "23  ßĹśnHś2\n",
       "˘f\u0005+éNŘŤĂaë7Źŕ;9?x˝ĺ7Úś\u0010\\t>Ž_ť÷\u0011L]\n",
       "...                 \n",
       "24                                                NaN                 \n",
       "25                                                NaN                 \n",
       "26                                                NaN                 \n",
       "27                                                NaN                 \n",
       "28                                                NaN                 \n",
       "29                                 Ă=ĐW\u0013\u0011OHőŠŤ\u0001 8                 \n",
       "30                                                NaN                 \n",
       "31                                                NaN                 \n",
       "32                                                NaN                 \n",
       "33                                                NaN                 \n",
       "34                                                NaN                 \n",
       "35                                                NaN                 \n",
       "36                                                NaN                 >"
      ]
     },
     "execution_count": 43,
     "metadata": {},
     "output_type": "execute_result"
    }
   ],
   "source": [
    "ca.head"
   ]
  }
 ],
 "metadata": {
  "kernelspec": {
   "display_name": ".venv",
   "language": "python",
   "name": "python3"
  },
  "language_info": {
   "codemirror_mode": {
    "name": "ipython",
    "version": 3
   },
   "file_extension": ".py",
   "mimetype": "text/x-python",
   "name": "python",
   "nbconvert_exporter": "python",
   "pygments_lexer": "ipython3",
   "version": "3.11.9"
  }
 },
 "nbformat": 4,
 "nbformat_minor": 2
}
